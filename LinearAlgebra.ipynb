{
 "metadata": {
  "name": "LinearAlgebra"
 },
 "nbformat": 3,
 "nbformat_minor": 0,
 "worksheets": [
  {
   "cells": [
    {
     "cell_type": "code",
     "collapsed": false,
     "input": [
      "from numpy import *\n",
      "\n",
      "#      E\n",
      "#     / \\\n",
      "#    A---B\n",
      "#    | \\ |\n",
      "#    C---D\n",
      "M = array(((0,1,1,1,1),(1,0,0,1,1),(1,0,0,1,0),(1,1,1,0,0),(1,1,0,0,0)))\n",
      "print M"
     ],
     "language": "python",
     "metadata": {},
     "outputs": [
      {
       "output_type": "stream",
       "stream": "stdout",
       "text": [
        "[[0 1 1 1 1]\n",
        " [1 0 0 1 1]\n",
        " [1 0 0 1 0]\n",
        " [1 1 1 0 0]\n",
        " [1 1 0 0 0]]\n"
       ]
      }
     ],
     "prompt_number": 1
    },
    {
     "cell_type": "code",
     "collapsed": false,
     "input": [
      "es, vs = linalg.eig(M)"
     ],
     "language": "python",
     "metadata": {},
     "outputs": [],
     "prompt_number": 2
    },
    {
     "cell_type": "code",
     "collapsed": false,
     "input": [
      "x=(1/es[0])*dot(M,transpose(vs)[0])\n",
      "print x\n",
      "print transpose(vs)[0]"
     ],
     "language": "python",
     "metadata": {},
     "outputs": [
      {
       "output_type": "stream",
       "stream": "stdout",
       "text": [
        "[-0.55903255 -0.46995928 -0.35054183 -0.46995928 -0.35054183]\n",
        "[-0.55903255 -0.46995928 -0.35054183 -0.46995928 -0.35054183]\n"
       ]
      }
     ],
     "prompt_number": 3
    },
    {
     "cell_type": "code",
     "collapsed": false,
     "input": [
      "#need to start thinking here\n",
      "def multimult(matrix,vector,eigenval,num):\n",
      "    for i in xrange(num):\n",
      "        vector = (float(1)/e)*dot(matrix,vector)\n",
      "    return vector"
     ],
     "language": "python",
     "metadata": {},
     "outputs": [],
     "prompt_number": 4
    },
    {
     "cell_type": "code",
     "collapsed": false,
     "input": [
      "multimult(M,array((0,0,0,0,1)),es[0],60)"
     ],
     "language": "python",
     "metadata": {},
     "outputs": [
      {
       "output_type": "pyout",
       "prompt_number": 5,
       "text": [
        "array([ 19.7166189 ,  16.57507777,  12.36332253,  16.57507777,  12.36332253])"
       ]
      }
     ],
     "prompt_number": 5
    },
    {
     "cell_type": "code",
     "collapsed": false,
     "input": [],
     "language": "python",
     "metadata": {},
     "outputs": [
      {
       "output_type": "pyout",
       "prompt_number": 25,
       "text": [
        "array([[ -5.59032552e-01,  -7.70242078e-01,  -3.06936062e-01,\n",
        "         -3.31025070e-17,  -1.70426018e-16],\n",
        "       [ -4.69959281e-01,   1.37844975e-01,   5.10036310e-01,\n",
        "          3.71748034e-01,  -6.01500955e-01],\n",
        "       [ -3.50541834e-01,   4.29374351e-01,  -4.39042241e-01,\n",
        "         -6.01500955e-01,  -3.71748034e-01],\n",
        "       [ -4.69959281e-01,   1.37844975e-01,   5.10036310e-01,\n",
        "         -3.71748034e-01,   6.01500955e-01],\n",
        "       [ -3.50541834e-01,   4.29374351e-01,  -4.39042241e-01,\n",
        "          6.01500955e-01,   3.71748034e-01]])"
       ]
      }
     ],
     "prompt_number": 25
    },
    {
     "cell_type": "code",
     "collapsed": false,
     "input": [
      "M = array(((0,0,0,1,1,1),\n",
      "           (0.333333333,0,0,0,0,0),\n",
      "           (0.333333333,0,0,0,0,0),\n",
      "           (0.333333333,0,0,0,0,0.5),\n",
      "           (0,1,0.5,0,0,0),\n",
      "           (0,0,0.5,0,0,0)))\n",
      "es, vs = linalg.eig(M)"
     ],
     "language": "python",
     "metadata": {},
     "outputs": [],
     "prompt_number": 7
    },
    {
     "cell_type": "code",
     "collapsed": false,
     "input": [
      "transpose(vs)"
     ],
     "language": "python",
     "metadata": {},
     "outputs": [
      {
       "output_type": "pyout",
       "prompt_number": 11,
       "text": [
        "array([[ -7.86331017e-01+0.j        ,  -2.54629896e-01+0.j        ,\n",
        "         -2.54629896e-01+0.j        ,  -3.14705740e-01+0.j        ,\n",
        "         -3.71044410e-01+0.j        ,  -1.23681470e-01+0.j        ],\n",
        "       [  6.61694255e-01+0.j        ,  -1.62849613e-01-0.23164713j,\n",
        "         -1.62849613e-01-0.23164713j,  -5.03239877e-02-0.26247814j,\n",
        "         -1.84574337e-01+0.5130962j ,  -6.15247789e-02+0.17103207j],\n",
        "       [  6.61694255e-01+0.j        ,  -1.62849613e-01+0.23164713j,\n",
        "         -1.62849613e-01+0.23164713j,  -5.03239877e-02+0.26247814j,\n",
        "         -1.84574337e-01-0.5130962j ,  -6.15247789e-02-0.17103207j],\n",
        "       [ -2.08409362e-02+0.j        ,   5.20662185e-02+0.j        ,\n",
        "          5.20662185e-02+0.j        ,   7.83232543e-01+0.j        ,\n",
        "         -5.85338868e-01+0.j        ,  -1.95112956e-01+0.j        ],\n",
        "       [ -9.14477101e-16+0.j        ,  -2.63405135e-09+0.j        ,\n",
        "         -2.17732643e-16+0.j        ,  -7.07106784e-01+0.j        ,\n",
        "          7.07106779e-01+0.j        ,   5.26810254e-09+0.j        ],\n",
        "       [  9.55487782e-16+0.j        ,  -2.63405062e-09+0.j        ,\n",
        "          2.60509754e-16+0.j        ,   7.07106779e-01+0.j        ,\n",
        "         -7.07106784e-01+0.j        ,   5.26810142e-09+0.j        ]])"
       ]
      }
     ],
     "prompt_number": 11
    },
    {
     "cell_type": "code",
     "collapsed": false,
     "input": [],
     "language": "python",
     "metadata": {},
     "outputs": []
    }
   ],
   "metadata": {}
  }
 ]
}