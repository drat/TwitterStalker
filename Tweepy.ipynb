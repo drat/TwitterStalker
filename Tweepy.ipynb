{
 "metadata": {
  "name": "Tweepy"
 },
 "nbformat": 3,
 "nbformat_minor": 0,
 "worksheets": [
  {
   "cells": [
    {
     "cell_type": "code",
     "collapsed": false,
     "input": [
      "import tweepy\n",
      "\n",
      "# == OAuth Authentication ==\n",
      "#\n",
      "# This mode of authentication is the new preferred way\n",
      "# of authenticating with Twitter.\n",
      "\n",
      "# The consumer keys can be found on your application's Details\n",
      "# page located at https://dev.twitter.com/apps (under \"OAuth settings\")\n",
      "consumer_key=\"5Axgirp7hRTs4sxskrX4rg\"\n",
      "consumer_secret=\"cLZ2U7tEQA3ROqd0f8SclUYgodwRmhHQ97YXs7KDCg8\"\n",
      "\n",
      "# The access tokens can be found on your applications's Details\n",
      "# page located at https://dev.twitter.com/apps (located \n",
      "# under \"Your access token\")\n",
      "access_token=\"28881634-yLi7SYhLaAI6q9giw8jFvlFWahmhXtYoBYPCbjX9T\"\n",
      "access_token_secret=\"QW6MlErVIFG2Iq3VxeYgCeG6Mw2Zx4PbECehMSF8ANnxw\"\n",
      "\n",
      "auth = tweepy.OAuthHandler(consumer_key, consumer_secret)\n",
      "auth.set_access_token(access_token, access_token_secret)\n",
      "\n",
      "api = tweepy.API(auth)\n",
      "\n",
      "# If the authentication was successful, you should\n",
      "# see the name of the account print out\n",
      "#print api.me().name\n",
      "\n",
      "# If the application settings are set for \"Read and Write\" then\n",
      "# this line should tweet out the message to your account's \n",
      "# timeline. The \"Read and Write\" setting is on https://dev.twitter.com/apps\n",
      "#api.update_status('Updating using OAuth authentication via Tweepy!')"
     ],
     "language": "python",
     "metadata": {},
     "outputs": [],
     "prompt_number": 2
    },
    {
     "cell_type": "markdown",
     "metadata": {},
     "source": [
      "    Look [here](https://github.com/tweepy/tweepy/blob/master/tweepy/api.py) to find the api method that matches endpoints [here](https://dev.twitter.com/docs/api/1.1)."
     ]
    },
    {
     "cell_type": "code",
     "collapsed": false,
     "input": [
      "peteFriends = api.friends(screen_name='peteskomoroch')"
     ],
     "language": "python",
     "metadata": {},
     "outputs": [],
     "prompt_number": 5
    },
    {
     "cell_type": "code",
     "collapsed": false,
     "input": [
      "peteFriend = peteFriends[0]"
     ],
     "language": "python",
     "metadata": {},
     "outputs": [],
     "prompt_number": 9
    },
    {
     "cell_type": "code",
     "collapsed": false,
     "input": [
      "peteFriend.profile_image_url"
     ],
     "language": "python",
     "metadata": {},
     "outputs": [
      {
       "output_type": "pyout",
       "prompt_number": 24,
       "text": [
        "u'http://pbs.twimg.com/profile_images/1834380039/IMG_7763edited_twitter_normal.jpg'"
       ]
      }
     ],
     "prompt_number": 24
    },
    {
     "cell_type": "markdown",
     "metadata": {},
     "source": [
      "#Ideas\n",
      "* Which people are nearest to the people I like?\n",
      "* Which people are nearest to people I like and are already almost connected to me?"
     ]
    },
    {
     "cell_type": "code",
     "collapsed": false,
     "input": [
      "items = tweepy.Cursor(api.friends, screen_name=\"asdff_____\").items()"
     ],
     "language": "python",
     "metadata": {},
     "outputs": [],
     "prompt_number": 84
    },
    {
     "cell_type": "code",
     "collapsed": false,
     "input": [
      "try:\n",
      "    while True:\n",
      "        try:\n",
      "            item = items.next()\n",
      "        except tweepy.TweepError:\n",
      "            time.sleep(60 * 15)\n",
      "            item = next(items)\n",
      "        \n",
      "        print item.name\n",
      "except StopIteration:\n",
      "    pass\n",
      "\n",
      "print 'done'"
     ],
     "language": "python",
     "metadata": {},
     "outputs": [
      {
       "output_type": "stream",
       "stream": "stdout",
       "text": [
        "Carmina Espinosa\n",
        "Musthofa Sanchez\n",
        "E Cigarette Exposed\n",
        "PaoLa HaZ\n",
        "Alysaa\n",
        "brianna \u2764\n",
        "Jose $keem\n",
        "Janni\n",
        "LittleBlackStar\n",
        "April Bu\u00f1ag Reta\n",
        "Keka\n",
        "Don\n",
        "HGMG Yung Zo\n",
        "NBA All-Star\n",
        "DuniaTahu\u2122\n",
        "Vivi\n",
        "BlackBerryHelp\n",
        "Svetlana Tessalonica\n",
        "Felicia Gunawan\n",
        "Emma \n",
        "Kenisa Niamor "
       ]
      },
      {
       "output_type": "stream",
       "stream": "stdout",
       "text": [
        "\n",
        "Maradoni\n",
        "Jessica Wijaya\n",
        "Mahan&Mihan\n",
        "Steven Kurniawan\n",
        "Nice Kicks\n",
        "kasa\n",
        "haloCities \n",
        "\uc774\uc2b9\ud76c\n",
        "joshua ferdinand\n",
        "mika anabelle \n",
        "Jordan\n",
        "Rumahnya NBA Lovers\n",
        "viradarmadi\n",
        "Gabriela Nathasya\n",
        "kutipan film terbaik\n",
        "Harren Hermawan \n",
        "Laveda\n",
        "NBA History\n",
        "true!\n",
        "Ramalan Indonesia"
       ]
      },
      {
       "output_type": "stream",
       "stream": "stdout",
       "text": [
        "\n",
        "Gabriela Regita\n",
        "Ronald Putra\n",
        "Satrio Meidianto\n",
        "Maria Odilia\n",
        "Faktanya Adalah\n",
        "Clarissa Tamara\n",
        "no name -\n",
        "Steven\n",
        "Darelyn Ethelie\n",
        "dion parulian\n",
        "Noel\n",
        "InsideHoops.com\n",
        "NBA\n",
        "GLEN AARON\n",
        "adrien alvern\n",
        "Alexander Daniel\n",
        "done\n"
       ]
      }
     ],
     "prompt_number": 85
    },
    {
     "cell_type": "code",
     "collapsed": false,
     "input": [
      "a = items.next()\n",
      "if a:\n",
      "    print a.name\n",
      "else:\n",
      "    print \"not\""
     ],
     "language": "python",
     "metadata": {},
     "outputs": [
      {
       "ename": "StopIteration",
       "evalue": "",
       "output_type": "pyerr",
       "traceback": [
        "\u001b[0;31m---------------------------------------------------------------------------\u001b[0m\n\u001b[0;31mStopIteration\u001b[0m                             Traceback (most recent call last)",
        "\u001b[0;32m<ipython-input-75-02b42fd7c387>\u001b[0m in \u001b[0;36m<module>\u001b[0;34m()\u001b[0m\n\u001b[0;32m----> 1\u001b[0;31m \u001b[0ma\u001b[0m \u001b[0;34m=\u001b[0m \u001b[0mitems\u001b[0m\u001b[0;34m.\u001b[0m\u001b[0mnext\u001b[0m\u001b[0;34m(\u001b[0m\u001b[0;34m)\u001b[0m\u001b[0;34m\u001b[0m\u001b[0m\n\u001b[0m\u001b[1;32m      2\u001b[0m \u001b[0;32mif\u001b[0m \u001b[0ma\u001b[0m\u001b[0;34m:\u001b[0m\u001b[0;34m\u001b[0m\u001b[0m\n\u001b[1;32m      3\u001b[0m     \u001b[0;32mprint\u001b[0m \u001b[0ma\u001b[0m\u001b[0;34m.\u001b[0m\u001b[0mname\u001b[0m\u001b[0;34m\u001b[0m\u001b[0m\n\u001b[1;32m      4\u001b[0m \u001b[0;32melse\u001b[0m\u001b[0;34m:\u001b[0m\u001b[0;34m\u001b[0m\u001b[0m\n\u001b[1;32m      5\u001b[0m     \u001b[0;32mprint\u001b[0m \u001b[0;34m\"not\"\u001b[0m\u001b[0;34m\u001b[0m\u001b[0m\n",
        "\u001b[0;32m/Users/katecanterbury/Documents/Personal/Programming/DataScientistStalker/venv/lib/python2.7/site-packages/tweepy/cursor.pyc\u001b[0m in \u001b[0;36mnext\u001b[0;34m(self)\u001b[0m\n\u001b[1;32m    150\u001b[0m         \u001b[0;32mif\u001b[0m \u001b[0mself\u001b[0m\u001b[0;34m.\u001b[0m\u001b[0mcurrent_page\u001b[0m \u001b[0;32mis\u001b[0m \u001b[0mNone\u001b[0m \u001b[0;32mor\u001b[0m \u001b[0mself\u001b[0m\u001b[0;34m.\u001b[0m\u001b[0mpage_index\u001b[0m \u001b[0;34m==\u001b[0m \u001b[0mlen\u001b[0m\u001b[0;34m(\u001b[0m\u001b[0mself\u001b[0m\u001b[0;34m.\u001b[0m\u001b[0mcurrent_page\u001b[0m\u001b[0;34m)\u001b[0m \u001b[0;34m-\u001b[0m \u001b[0;36m1\u001b[0m\u001b[0;34m:\u001b[0m\u001b[0;34m\u001b[0m\u001b[0m\n\u001b[1;32m    151\u001b[0m             \u001b[0;31m# Reached end of current page, get the next page...\u001b[0m\u001b[0;34m\u001b[0m\u001b[0;34m\u001b[0m\u001b[0m\n\u001b[0;32m--> 152\u001b[0;31m             \u001b[0mself\u001b[0m\u001b[0;34m.\u001b[0m\u001b[0mcurrent_page\u001b[0m \u001b[0;34m=\u001b[0m \u001b[0mself\u001b[0m\u001b[0;34m.\u001b[0m\u001b[0mpage_iterator\u001b[0m\u001b[0;34m.\u001b[0m\u001b[0mnext\u001b[0m\u001b[0;34m(\u001b[0m\u001b[0;34m)\u001b[0m\u001b[0;34m\u001b[0m\u001b[0m\n\u001b[0m\u001b[1;32m    153\u001b[0m             \u001b[0mself\u001b[0m\u001b[0;34m.\u001b[0m\u001b[0mpage_index\u001b[0m \u001b[0;34m=\u001b[0m \u001b[0;34m-\u001b[0m\u001b[0;36m1\u001b[0m\u001b[0;34m\u001b[0m\u001b[0m\n\u001b[1;32m    154\u001b[0m         \u001b[0mself\u001b[0m\u001b[0;34m.\u001b[0m\u001b[0mpage_index\u001b[0m \u001b[0;34m+=\u001b[0m \u001b[0;36m1\u001b[0m\u001b[0;34m\u001b[0m\u001b[0m\n",
        "\u001b[0;32m/Users/katecanterbury/Documents/Personal/Programming/DataScientistStalker/venv/lib/python2.7/site-packages/tweepy/cursor.pyc\u001b[0m in \u001b[0;36mnext\u001b[0;34m(self)\u001b[0m\n\u001b[1;32m     60\u001b[0m     \u001b[0;32mdef\u001b[0m \u001b[0mnext\u001b[0m\u001b[0;34m(\u001b[0m\u001b[0mself\u001b[0m\u001b[0;34m)\u001b[0m\u001b[0;34m:\u001b[0m\u001b[0;34m\u001b[0m\u001b[0m\n\u001b[1;32m     61\u001b[0m         \u001b[0;32mif\u001b[0m \u001b[0mself\u001b[0m\u001b[0;34m.\u001b[0m\u001b[0mnext_cursor\u001b[0m \u001b[0;34m==\u001b[0m \u001b[0;36m0\u001b[0m \u001b[0;32mor\u001b[0m \u001b[0;34m(\u001b[0m\u001b[0mself\u001b[0m\u001b[0;34m.\u001b[0m\u001b[0mlimit\u001b[0m \u001b[0;32mand\u001b[0m \u001b[0mself\u001b[0m\u001b[0;34m.\u001b[0m\u001b[0mcount\u001b[0m \u001b[0;34m==\u001b[0m \u001b[0mself\u001b[0m\u001b[0;34m.\u001b[0m\u001b[0mlimit\u001b[0m\u001b[0;34m)\u001b[0m\u001b[0;34m:\u001b[0m\u001b[0;34m\u001b[0m\u001b[0m\n\u001b[0;32m---> 62\u001b[0;31m             \u001b[0;32mraise\u001b[0m \u001b[0mStopIteration\u001b[0m\u001b[0;34m\u001b[0m\u001b[0m\n\u001b[0m\u001b[1;32m     63\u001b[0m         data, cursors = self.method(\n\u001b[1;32m     64\u001b[0m                 \u001b[0mcursor\u001b[0m\u001b[0;34m=\u001b[0m\u001b[0mself\u001b[0m\u001b[0;34m.\u001b[0m\u001b[0mnext_cursor\u001b[0m\u001b[0;34m,\u001b[0m \u001b[0;34m*\u001b[0m\u001b[0mself\u001b[0m\u001b[0;34m.\u001b[0m\u001b[0margs\u001b[0m\u001b[0;34m,\u001b[0m \u001b[0;34m**\u001b[0m\u001b[0mself\u001b[0m\u001b[0;34m.\u001b[0m\u001b[0mkargs\u001b[0m\u001b[0;34m\u001b[0m\u001b[0m\n",
        "\u001b[0;31mStopIteration\u001b[0m: "
       ]
      }
     ],
     "prompt_number": 75
    },
    {
     "cell_type": "code",
     "collapsed": false,
     "input": [
      "try:\n",
      "    item = next(items)\n",
      "except StopIteration:\n",
      "    pass"
     ],
     "language": "python",
     "metadata": {},
     "outputs": [],
     "prompt_number": 81
    }
   ],
   "metadata": {}
  }
 ]
}