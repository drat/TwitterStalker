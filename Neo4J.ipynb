{
 "metadata": {
  "name": "Neo4J"
 },
 "nbformat": 3,
 "nbformat_minor": 0,
 "worksheets": [
  {
   "cells": [
    {
     "cell_type": "code",
     "collapsed": false,
     "input": [
      "from py2neo import neo4j\n",
      "\n",
      "graph_db = neo4j.GraphDatabaseService(\"http://localhost:7474/db/data/\")"
     ],
     "language": "python",
     "metadata": {},
     "outputs": [],
     "prompt_number": 1
    },
    {
     "cell_type": "code",
     "collapsed": false,
     "input": [
      "query = neo4j.CypherQuery(graph_db, \"CREATE (a {name:{name_a}})-[ab:KNOWS]->(b {name:{name_b}})\"\n",
      "                              \"RETURN a, b, ab\")\n",
      "a, b, ab = query.execute(**{'name_a':'Alice', 'name_b':'Bob'}).data[0]"
     ],
     "language": "python",
     "metadata": {},
     "outputs": [
      {
       "output_type": "stream",
       "stream": "stderr",
       "text": [
        "WARNING:py2neo.packages.httpstream.http:<~> Reconnecting (broken pipe)\n"
       ]
      }
     ],
     "prompt_number": 58
    },
    {
     "cell_type": "code",
     "collapsed": false,
     "input": [
      "graph_db.clear()"
     ],
     "language": "python",
     "metadata": {},
     "outputs": [
      {
       "output_type": "stream",
       "stream": "stderr",
       "text": [
        "WARNING:py2neo.packages.httpstream.http:<~> Reconnecting (broken pipe)\n"
       ]
      }
     ],
     "prompt_number": 93
    },
    {
     "cell_type": "code",
     "collapsed": false,
     "input": [
      "neo4j.CypherQuery(graph_db,\"CREATE CONSTRAINT on (u:User) ASSERT u.id_str IS UNIQUE\").execute()"
     ],
     "language": "python",
     "metadata": {},
     "outputs": [
      {
       "ename": "CypherExecutionException",
       "evalue": "Already constrained CONSTRAINT ON ( user:User ) ASSERT user.id_str IS UNIQUE.",
       "output_type": "pyerr",
       "traceback": [
        "\u001b[0;31m---------------------------------------------------------------------------\u001b[0m\n\u001b[0;31mCypherExecutionException\u001b[0m                  Traceback (most recent call last)",
        "\u001b[0;32m<ipython-input-23-c1774bcb77a1>\u001b[0m in \u001b[0;36m<module>\u001b[0;34m()\u001b[0m\n\u001b[0;32m----> 1\u001b[0;31m \u001b[0mneo4j\u001b[0m\u001b[0;34m.\u001b[0m\u001b[0mCypherQuery\u001b[0m\u001b[0;34m(\u001b[0m\u001b[0mgraph_db\u001b[0m\u001b[0;34m,\u001b[0m\u001b[0;34m\"CREATE CONSTRAINT on (u:User) ASSERT u.id_str IS UNIQUE\"\u001b[0m\u001b[0;34m)\u001b[0m\u001b[0;34m.\u001b[0m\u001b[0mexecute\u001b[0m\u001b[0;34m(\u001b[0m\u001b[0;34m)\u001b[0m\u001b[0;34m\u001b[0m\u001b[0m\n\u001b[0m",
        "\u001b[0;32m/Users/katecanterbury/Documents/Personal/Programming/DataScientistStalker/venv/lib/python2.7/site-packages/py2neo-1.6.1-py2.7.egg/py2neo/neo4j.pyc\u001b[0m in \u001b[0;36mexecute\u001b[0;34m(self, **params)\u001b[0m\n\u001b[1;32m   1059\u001b[0m         \u001b[0;34m:\u001b[0m\u001b[0mrtype\u001b[0m\u001b[0;34m:\u001b[0m \u001b[0;34m:\u001b[0m\u001b[0mpy\u001b[0m\u001b[0;34m:\u001b[0m\u001b[0;32mclass\u001b[0m\u001b[0;34m:\u001b[0m\u001b[0;34m`\u001b[0m\u001b[0mCypherResults\u001b[0m \u001b[0;34m<\u001b[0m\u001b[0mpy2neo\u001b[0m\u001b[0;34m.\u001b[0m\u001b[0mneo4j\u001b[0m\u001b[0;34m.\u001b[0m\u001b[0mCypherResults\u001b[0m\u001b[0;34m>\u001b[0m\u001b[0;34m`\u001b[0m\u001b[0;34m\u001b[0m\u001b[0m\n\u001b[1;32m   1060\u001b[0m         \"\"\"\n\u001b[0;32m-> 1061\u001b[0;31m         \u001b[0;32mreturn\u001b[0m \u001b[0mCypherResults\u001b[0m\u001b[0;34m(\u001b[0m\u001b[0mself\u001b[0m\u001b[0;34m.\u001b[0m\u001b[0m_execute\u001b[0m\u001b[0;34m(\u001b[0m\u001b[0;34m**\u001b[0m\u001b[0mparams\u001b[0m\u001b[0;34m)\u001b[0m\u001b[0;34m)\u001b[0m\u001b[0;34m\u001b[0m\u001b[0m\n\u001b[0m\u001b[1;32m   1062\u001b[0m \u001b[0;34m\u001b[0m\u001b[0m\n\u001b[1;32m   1063\u001b[0m     \u001b[0;32mdef\u001b[0m \u001b[0mexecute_one\u001b[0m\u001b[0;34m(\u001b[0m\u001b[0mself\u001b[0m\u001b[0;34m,\u001b[0m \u001b[0;34m**\u001b[0m\u001b[0mparams\u001b[0m\u001b[0;34m)\u001b[0m\u001b[0;34m:\u001b[0m\u001b[0;34m\u001b[0m\u001b[0m\n",
        "\u001b[0;32m/Users/katecanterbury/Documents/Personal/Programming/DataScientistStalker/venv/lib/python2.7/site-packages/py2neo-1.6.1-py2.7.egg/py2neo/neo4j.pyc\u001b[0m in \u001b[0;36m_execute\u001b[0;34m(self, **params)\u001b[0m\n\u001b[1;32m   1041\u001b[0m                 \u001b[0;31m# exception\u001b[0m\u001b[0;34m\u001b[0m\u001b[0;34m\u001b[0m\u001b[0m\n\u001b[1;32m   1042\u001b[0m                 \u001b[0mCustomCypherError\u001b[0m \u001b[0;34m=\u001b[0m \u001b[0mtype\u001b[0m\u001b[0;34m(\u001b[0m\u001b[0mstr\u001b[0m\u001b[0;34m(\u001b[0m\u001b[0me\u001b[0m\u001b[0;34m.\u001b[0m\u001b[0mexception\u001b[0m\u001b[0;34m)\u001b[0m\u001b[0;34m,\u001b[0m \u001b[0;34m(\u001b[0m\u001b[0mCypherError\u001b[0m\u001b[0;34m,\u001b[0m\u001b[0;34m)\u001b[0m\u001b[0;34m,\u001b[0m \u001b[0;34m{\u001b[0m\u001b[0;34m}\u001b[0m\u001b[0;34m)\u001b[0m\u001b[0;34m\u001b[0m\u001b[0m\n\u001b[0;32m-> 1043\u001b[0;31m                 \u001b[0;32mraise\u001b[0m \u001b[0mCustomCypherError\u001b[0m\u001b[0;34m(\u001b[0m\u001b[0me\u001b[0m\u001b[0;34m)\u001b[0m\u001b[0;34m\u001b[0m\u001b[0m\n\u001b[0m\u001b[1;32m   1044\u001b[0m             \u001b[0;32melse\u001b[0m\u001b[0;34m:\u001b[0m\u001b[0;34m\u001b[0m\u001b[0m\n\u001b[1;32m   1045\u001b[0m                 \u001b[0;32mraise\u001b[0m \u001b[0mCypherError\u001b[0m\u001b[0;34m(\u001b[0m\u001b[0me\u001b[0m\u001b[0;34m)\u001b[0m\u001b[0;34m\u001b[0m\u001b[0m\n",
        "\u001b[0;31mCypherExecutionException\u001b[0m: Already constrained CONSTRAINT ON ( user:User ) ASSERT user.id_str IS UNIQUE."
       ]
      }
     ],
     "prompt_number": 23
    },
    {
     "cell_type": "code",
     "collapsed": false,
     "input": [
      "n=neo4j.CypherQuery(graph_db,\"\"\"\n",
      "MERGE (u:User {id_str:{id_str}}) \n",
      "ON CREATE u SET \n",
      "  u.name='deb',\n",
      "  u.color={color}\n",
      "RETURN u\n",
      "\"\"\").execute_one(**{'id_str':'163','color':'green'})\n",
      "n[\"color\"]"
     ],
     "language": "python",
     "metadata": {},
     "outputs": [
      {
       "output_type": "stream",
       "stream": "stderr",
       "text": [
        "WARNING:py2neo.packages.httpstream.http:<~> Reconnecting (peer closed connection)\n"
       ]
      },
      {
       "output_type": "pyout",
       "prompt_number": 83,
       "text": [
        "u'blue'"
       ]
      }
     ],
     "prompt_number": 83
    },
    {
     "cell_type": "code",
     "collapsed": false,
     "input": [
      "n=neo4j.CypherQuery(graph_db,\"\"\"\n",
      "MERGE (u:User {id_str:'234'}) \n",
      "ON CREATE u SET u.name='jenn'\n",
      "RETURN u\n",
      "\"\"\").execute_one()\n",
      "n[\"name\"]"
     ],
     "language": "python",
     "metadata": {},
     "outputs": [
      {
       "output_type": "pyout",
       "prompt_number": 47,
       "text": [
        "u'jenn'"
       ]
      }
     ],
     "prompt_number": 47
    },
    {
     "cell_type": "code",
     "collapsed": false,
     "input": [
      "n=neo4j.CypherQuery(graph_db,\"\"\"\n",
      "MATCH (a),(b)\n",
      "WHERE a.id_str='123' AND b.id_str='234'\n",
      "CREATE (a)-[:FOLLOWS]->(b)\n",
      "RETURN a,b\n",
      "\"\"\").execute_one(id_str)\n",
      "n[\"name\"]"
     ],
     "language": "python",
     "metadata": {},
     "outputs": [
      {
       "ename": "TypeError",
       "evalue": "'NoneType' object is not subscriptable",
       "output_type": "pyerr",
       "traceback": [
        "\u001b[0;31m---------------------------------------------------------------------------\u001b[0m\n\u001b[0;31mTypeError\u001b[0m                                 Traceback (most recent call last)",
        "\u001b[0;32m<ipython-input-85-f2f4eb9763ba>\u001b[0m in \u001b[0;36m<module>\u001b[0;34m()\u001b[0m\n\u001b[1;32m      5\u001b[0m \u001b[0mRETURN\u001b[0m \u001b[0ma\u001b[0m\u001b[0;34m,\u001b[0m\u001b[0mb\u001b[0m\u001b[0;34m\u001b[0m\u001b[0m\n\u001b[1;32m      6\u001b[0m \"\"\").execute_one()\n\u001b[0;32m----> 7\u001b[0;31m \u001b[0mn\u001b[0m\u001b[0;34m[\u001b[0m\u001b[0;34m\"name\"\u001b[0m\u001b[0;34m]\u001b[0m\u001b[0;34m\u001b[0m\u001b[0m\n\u001b[0m",
        "\u001b[0;31mTypeError\u001b[0m: 'NoneType' object is not subscriptable"
       ]
      }
     ],
     "prompt_number": 85
    },
    {
     "cell_type": "code",
     "collapsed": false,
     "input": [
      "def hasFriends(id_str=None,screen_name=None):\n",
      "    if id_str:\n",
      "        n=neo4j.CypherQuery(graph_db,\"\"\"\n",
      "            MATCH (user:User {id_str:{id_str}})-->(f)\n",
      "            return count(*)\n",
      "        \"\"\").execute_one(id_str=id_str)\n",
      "    elif screen_name:\n",
      "        n=neo4j.CypherQuery(graph_db,\"\"\"\n",
      "            MATCH (user:User {screen_name:{screen_name}})-->(f)\n",
      "            return count(*)\n",
      "        \"\"\").execute_one(screen_name=screen_name)\n",
      "    return n>0\n",
      "\n",
      "def exists(id_str=None,screen_name=None):\n",
      "    if id_str:\n",
      "        n=neo4j.CypherQuery(graph_db,\"\"\"\n",
      "            MATCH (user:User {id_str:{id_str}})\n",
      "            return count(*)\n",
      "        \"\"\").execute_one(id_str=id_str)\n",
      "    elif screen_name:\n",
      "        n=neo4j.CypherQuery(graph_db,\"\"\"\n",
      "            MATCH (user:User {screen_name:{screen_name}})\n",
      "            return count(*)\n",
      "        \"\"\").execute_one(screen_name=screen_name)\n",
      "    return n>0"
     ],
     "language": "python",
     "metadata": {},
     "outputs": [],
     "prompt_number": 22
    },
    {
     "cell_type": "code",
     "collapsed": false,
     "input": [
      "exists(screen_name=\"JnBrymn\")"
     ],
     "language": "python",
     "metadata": {},
     "outputs": [
      {
       "output_type": "pyout",
       "prompt_number": 27,
       "text": [
        "True"
       ]
      }
     ],
     "prompt_number": 27
    },
    {
     "cell_type": "code",
     "collapsed": false,
     "input": [],
     "language": "python",
     "metadata": {},
     "outputs": []
    }
   ],
   "metadata": {}
  }
 ]
}